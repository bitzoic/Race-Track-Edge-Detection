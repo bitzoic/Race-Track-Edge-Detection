{
 "cells": [
  {
   "cell_type": "markdown",
   "metadata": {
    "id": "QCyCiCze2HCo"
   },
   "source": [
    "# Pull in Google Drive\n"
   ]
  },
  {
   "cell_type": "code",
   "execution_count": 1,
   "metadata": {
    "colab": {
     "base_uri": "https://localhost:8080/"
    },
    "executionInfo": {
     "elapsed": 29183,
     "status": "ok",
     "timestamp": 1607366074000,
     "user": {
      "displayName": "Cameron Carstens",
      "photoUrl": "https://lh3.googleusercontent.com/a-/AOh14GjRnc1FhWpuplDbNt7YfC8PpLAmkILH8Di60uyyhBY=s64",
      "userId": "12217425382870501107"
     },
     "user_tz": 300
    },
    "id": "HSEyP7ts2JTi",
    "outputId": "0a7d3707-a9c8-4b57-e5fd-2122176eec58"
   },
   "outputs": [
    {
     "name": "stdout",
     "output_type": "stream",
     "text": [
      "Mounted at /content/drive/\n"
     ]
    }
   ],
   "source": [
    "# Load the Drive helper and mount\n",
    "from google.colab import drive\n",
    "\n",
    "# This will prompt for authorization.\n",
    "drive.mount('/content/drive/')"
   ]
  },
  {
   "cell_type": "markdown",
   "metadata": {
    "id": "xCmilVyPyy23"
   },
   "source": [
    "# Imports"
   ]
  },
  {
   "cell_type": "code",
   "execution_count": 2,
   "metadata": {
    "executionInfo": {
     "elapsed": 1984,
     "status": "ok",
     "timestamp": 1607366078311,
     "user": {
      "displayName": "Cameron Carstens",
      "photoUrl": "https://lh3.googleusercontent.com/a-/AOh14GjRnc1FhWpuplDbNt7YfC8PpLAmkILH8Di60uyyhBY=s64",
      "userId": "12217425382870501107"
     },
     "user_tz": 300
    },
    "id": "4PMg4M4Jyg8l"
   },
   "outputs": [],
   "source": [
    "import numpy as np\n",
    "import cv2\n",
    "from cv2 import VideoWriter, VideoWriter_fourcc, imread, resize\n",
    "import matplotlib.pyplot as plt \n",
    "from google.colab.patches import cv2_imshow\n",
    "import math\n",
    "from PIL import Image, ImageFilter\n",
    "import time\n",
    "import skimage.measure\n",
    "import imutils\n",
    "import scipy"
   ]
  },
  {
   "cell_type": "markdown",
   "metadata": {
    "id": "eyuWFx942HgP"
   },
   "source": [
    "# Methods"
   ]
  },
  {
   "cell_type": "code",
   "execution_count": 3,
   "metadata": {
    "executionInfo": {
     "elapsed": 1004,
     "status": "ok",
     "timestamp": 1607366078890,
     "user": {
      "displayName": "Cameron Carstens",
      "photoUrl": "https://lh3.googleusercontent.com/a-/AOh14GjRnc1FhWpuplDbNt7YfC8PpLAmkILH8Di60uyyhBY=s64",
      "userId": "12217425382870501107"
     },
     "user_tz": 300
    },
    "id": "7JBp3SvZHynI"
   },
   "outputs": [],
   "source": [
    "def colors_of_similar_rgb(given_img, threshold):\n",
    "  # Get the size of the image\n",
    "  width, height, rgb = np.shape(given_img)\n",
    "\n",
    "  # Process every pixel\n",
    "  for x in range(width):\n",
    "    for y in range(height):\n",
    "        b = given_img.item((x,y,0))\n",
    "        g = given_img.item((x,y,1))\n",
    "        r = given_img.item((x,y,2))\n",
    "\n",
    "        red_blue = abs(b - r)\n",
    "        red_green = abs(g - r)\n",
    "        green_blue = abs(g - b)\n",
    "\n",
    "        if red_blue > threshold or red_green > threshold or green_blue > threshold:\n",
    "            given_img.itemset((x,y,0), 0)\n",
    "            given_img.itemset((x,y,1), 0)\n",
    "            given_img.itemset((x,y,2),0)\n",
    "\n",
    "        if g > r and g > b:\n",
    "            given_img.itemset((x,y,0), 0)\n",
    "            given_img.itemset((x,y,1), 0)\n",
    "            given_img.itemset((x,y,2),0)\n",
    "\n",
    "        if b > r and b > g:\n",
    "            given_img.itemset((x,y,0), 0)\n",
    "            given_img.itemset((x,y,1), 0)\n",
    "            given_img.itemset((x,y,2),0)\n",
    "        \n",
    "    return given_img"
   ]
  },
  {
   "cell_type": "code",
   "execution_count": 4,
   "metadata": {
    "executionInfo": {
     "elapsed": 694,
     "status": "ok",
     "timestamp": 1607366081674,
     "user": {
      "displayName": "Cameron Carstens",
      "photoUrl": "https://lh3.googleusercontent.com/a-/AOh14GjRnc1FhWpuplDbNt7YfC8PpLAmkILH8Di60uyyhBY=s64",
      "userId": "12217425382870501107"
     },
     "user_tz": 300
    },
    "id": "3gRoWieH0LIU"
   },
   "outputs": [],
   "source": [
    "def region_of_intrest(img_roi_input):\n",
    "    lower = np.array([30, 30, 30], dtype = \"uint8\")\n",
    "    upper = np.array([200, 200, 200], dtype = \"uint8\")\n",
    "    mask = cv2.inRange(img_roi_input, lower, upper)\n",
    "    img_roi_output = cv2.bitwise_and(img_roi_input, img_roi_input, mask = mask)\n",
    "    img_roi_output = colors_of_similar_rgb(img_roi_output, 20)\n",
    "    return img_roi_output"
   ]
  },
  {
   "cell_type": "code",
   "execution_count": 5,
   "metadata": {
    "executionInfo": {
     "elapsed": 439,
     "status": "ok",
     "timestamp": 1607366082394,
     "user": {
      "displayName": "Cameron Carstens",
      "photoUrl": "https://lh3.googleusercontent.com/a-/AOh14GjRnc1FhWpuplDbNt7YfC8PpLAmkILH8Di60uyyhBY=s64",
      "userId": "12217425382870501107"
     },
     "user_tz": 300
    },
    "id": "HSbSK76X0sYS"
   },
   "outputs": [],
   "source": [
    "def canny(img_c_input, low, high):\n",
    "    img_c_output = cv2.Canny(img_c_input, low, high, None, 3)\n",
    "    return img_c_output"
   ]
  },
  {
   "cell_type": "code",
   "execution_count": 6,
   "metadata": {
    "executionInfo": {
     "elapsed": 528,
     "status": "ok",
     "timestamp": 1607366083471,
     "user": {
      "displayName": "Cameron Carstens",
      "photoUrl": "https://lh3.googleusercontent.com/a-/AOh14GjRnc1FhWpuplDbNt7YfC8PpLAmkILH8Di60uyyhBY=s64",
      "userId": "12217425382870501107"
     },
     "user_tz": 300
    },
    "id": "q-RgRjqW9YUl"
   },
   "outputs": [],
   "source": [
    "def gaussian(img_g_input, size, kernel):\n",
    "    img_g_output = cv2.GaussianBlur(img_g_input, size, kernel)\n",
    "\n",
    "    return img_g_output"
   ]
  },
  {
   "cell_type": "code",
   "execution_count": 7,
   "metadata": {
    "executionInfo": {
     "elapsed": 746,
     "status": "ok",
     "timestamp": 1607366084310,
     "user": {
      "displayName": "Cameron Carstens",
      "photoUrl": "https://lh3.googleusercontent.com/a-/AOh14GjRnc1FhWpuplDbNt7YfC8PpLAmkILH8Di60uyyhBY=s64",
      "userId": "12217425382870501107"
     },
     "user_tz": 300
    },
    "id": "urQxhlUJ9qXs"
   },
   "outputs": [],
   "source": [
    "def sharpen(img_s_input):\n",
    "    kernel = np.array([[-1,-1,-1], [-1,9,-1], [-1,-1,-1]])\n",
    "    img_s_output = cv2.filter2D(img_s_input, -1, kernel)\n",
    "    return img_s_output"
   ]
  },
  {
   "cell_type": "code",
   "execution_count": 8,
   "metadata": {
    "executionInfo": {
     "elapsed": 669,
     "status": "ok",
     "timestamp": 1607366085625,
     "user": {
      "displayName": "Cameron Carstens",
      "photoUrl": "https://lh3.googleusercontent.com/a-/AOh14GjRnc1FhWpuplDbNt7YfC8PpLAmkILH8Di60uyyhBY=s64",
      "userId": "12217425382870501107"
     },
     "user_tz": 300
    },
    "id": "-OI1yaNM9R6u"
   },
   "outputs": [],
   "source": [
    "def pool(img_p_input):\n",
    "    img_p_output = skimage.measure.block_reduce(img_p_input, (2,2), np.max)\n",
    "    return img_p_output"
   ]
  },
  {
   "cell_type": "code",
   "execution_count": 9,
   "metadata": {
    "executionInfo": {
     "elapsed": 371,
     "status": "ok",
     "timestamp": 1607366085941,
     "user": {
      "displayName": "Cameron Carstens",
      "photoUrl": "https://lh3.googleusercontent.com/a-/AOh14GjRnc1FhWpuplDbNt7YfC8PpLAmkILH8Di60uyyhBY=s64",
      "userId": "12217425382870501107"
     },
     "user_tz": 300
    },
    "id": "08e2MO-g_olY"
   },
   "outputs": [],
   "source": [
    "def up_scale(img_u_input, width, height):\n",
    "    img_u_output = np.resize(img_u_input, (width,height))\n",
    "    return img_u_output"
   ]
  },
  {
   "cell_type": "markdown",
   "metadata": {
    "id": "nYgN7vRZ2M-8"
   },
   "source": [
    "# Runtime"
   ]
  },
  {
   "cell_type": "code",
   "execution_count": null,
   "metadata": {
    "colab": {
     "background_save": true,
     "output_embedded_package_id": "1Z2u2P7y-3gBX1UyTJqYTUsxf8LHNiGhu"
    },
    "id": "C6IYJgTJ22zI",
    "outputId": "f41be6ed-7fce-45a4-a38c-b31c1dfd919c"
   },
   "outputs": [],
   "source": [
    "# Path of dataset directory \n",
    "cap = cv2.VideoCapture(\"Track_SuperWide_Trim_6.mp4\")  \n",
    "frame_width = int(cap.get(3))\n",
    "frame_height = int(cap.get(4))\n",
    "\n",
    "_fourcc = cv2.VideoWriter_fourcc(*'MP4V')\n",
    "_out = cv2.VideoWriter('out.mp4', _fourcc, 30.0, (frame_width,frame_height))\n",
    "\n",
    "while cap.isOpened(): \n",
    "    start_time = time.time()\n",
    "    _, frame = cap.read() \n",
    "\n",
    "    if _ == False:\n",
    "        break\n",
    "\n",
    "    # Remove colors\n",
    "    img = region_of_intrest(frame)\n",
    "    img = cv2.cvtColor(img, cv2.COLOR_BGR2GRAY)\n",
    "    # Pool and gausian 1\n",
    "    img = pool(img)\n",
    "    img = gaussian(img, (27, 27), 80)\n",
    "    # Pool and Gausian 2\n",
    "    img = pool(img)\n",
    "    img = gaussian(img, (19, 19), 50)\n",
    "    # Pool and gaussian 3\n",
    "    img = pool(img)\n",
    "    img = gaussian(img, (11, 11), 15)\n",
    "    # Pool and gaussian 4\n",
    "    img = pool(img)\n",
    "    img = gaussian(img, (9, 9), 10)\n",
    "    # Canny\n",
    "    img = canny(img, 20, 45)\n",
    "    # Upscale and Gaussian\n",
    "    img = cv2.resize(img, dsize=(5*frame_width, 5*frame_height), interpolation=cv2.INTER_LINEAR)\n",
    "    img = gaussian(img, (45, 45), 200);\n",
    "    # Downscale to original size\n",
    "    img = cv2.resize(img, dsize=(frame_width, frame_height), interpolation=cv2.INTER_CUBIC)\n",
    "    # Canny 2\n",
    "    img = canny(img, 50, 60)\n",
    "\n",
    "    # Hough Transform\n",
    "    lines = cv2.HoughLinesP(img, 1, np.pi/180, 100, maxLineGap=100, minLineLength=20)\n",
    "\n",
    "    # Plot detected lines\n",
    "    dmy = frame.copy()\n",
    "    for line in lines:\n",
    "        x1, y1, x2, y2 = line[0]\n",
    "        cv2.line(dmy, (x1, y1), (x2, y2), (255, 0, 0), 2)\n",
    "    \n",
    "    #_out.write(dmy)\n",
    "    cv2_imshow(img)\n",
    "    break\n",
    "\n",
    "    if cv2.waitKey(1) & 0xFF == ord('q'):       \n",
    "        break\n",
    "      \n",
    "\n",
    "\n",
    "    # close the video file \n",
    "cap.release()  \n",
    "_out.release()\n",
    "# destroy all the windows that is currently on \n",
    "cv2.destroyAllWindows()"
   ]
  }
 ],
 "metadata": {
  "colab": {
   "collapsed_sections": [],
   "name": "EEL4660_Final_Project.ipynb",
   "version": ""
  },
  "kernelspec": {
   "display_name": "Python 3",
   "language": "python",
   "name": "python3"
  },
  "language_info": {
   "codemirror_mode": {
    "name": "ipython",
    "version": 3
   },
   "file_extension": ".py",
   "mimetype": "text/x-python",
   "name": "python",
   "nbconvert_exporter": "python",
   "pygments_lexer": "ipython3",
   "version": "3.8.3"
  }
 },
 "nbformat": 4,
 "nbformat_minor": 1
}
